{
  "nbformat": 4,
  "nbformat_minor": 0,
  "metadata": {
    "colab": {
      "name": "hiddenLayers.ipynb",
      "provenance": [],
      "authorship_tag": "ABX9TyOfFl2l1mWfEppVU/5Kl7Th",
      "include_colab_link": true
    },
    "kernelspec": {
      "name": "python3",
      "display_name": "Python 3"
    }
  },
  "cells": [
    {
      "cell_type": "markdown",
      "metadata": {
        "id": "view-in-github",
        "colab_type": "text"
      },
      "source": [
        "<a href=\"https://colab.research.google.com/github/alkaline2018/pro/blob/master/hiddenLayers.ipynb\" target=\"_parent\"><img src=\"https://colab.research.google.com/assets/colab-badge.svg\" alt=\"Open In Colab\"/></a>"
      ]
    },
    {
      "cell_type": "code",
      "metadata": {
        "id": "ceVY5fXSpI0n",
        "colab_type": "code",
        "colab": {}
      },
      "source": [
        "# 라이브러리 사용\n",
        "import tensorflow as tf\n",
        "import pandas as pd"
      ],
      "execution_count": null,
      "outputs": []
    },
    {
      "cell_type": "code",
      "metadata": {
        "id": "8eDcgd4nqIYj",
        "colab_type": "code",
        "colab": {
          "base_uri": "https://localhost:8080/",
          "height": 35
        },
        "outputId": "a04b047d-7991-461f-83ff-2cded99d20fd"
      },
      "source": [
        "#  1. 과거의 데이터를 준비\n",
        "file_path = 'https://raw.githubusercontent.com/blackdew/tensorflow1/master/csv/boston.csv'\n",
        "boston = pd.read_csv(file_path)\n",
        "\n",
        "#  종속변수, 독립변수\n",
        "independent_var =  boston[['crim', 'zn', 'indus', 'chas', 'nox', \n",
        "            'rm', 'age', 'dis', 'rad', 'tax',\n",
        "            'ptratio', 'b', 'lstat']]\n",
        "dependent_var =  boston[['medv']]\n",
        "print(independent_var.shape, dependent_var.shape)"
      ],
      "execution_count": null,
      "outputs": [
        {
          "output_type": "stream",
          "text": [
            "(506, 13) (506, 1)\n"
          ],
          "name": "stdout"
        }
      ]
    },
    {
      "cell_type": "code",
      "metadata": {
        "id": "RWHxLFNYq0VX",
        "colab_type": "code",
        "colab": {}
      },
      "source": [
        "# 2. 모델의 구조를 만든다\n",
        "X = tf.keras.layers.Input(shape=[13])\n",
        "H = tf.keras.layers.Dense(10, activation='swish')(X)\n",
        "Y = tf.keras.layers.Dense(1)(H)\n",
        "model = tf.keras.models.Model(X,Y)\n",
        "model.compile(loss='mse')"
      ],
      "execution_count": null,
      "outputs": []
    },
    {
      "cell_type": "code",
      "metadata": {
        "id": "nsjrCu6DrcMN",
        "colab_type": "code",
        "colab": {
          "base_uri": "https://localhost:8080/",
          "height": 395
        },
        "outputId": "99e44081-3d06-4b58-b9ab-e24d039f9b14"
      },
      "source": [
        "# 3. 데이터로 모델을 학습(FIT)합니다.\n",
        "model.fit(independent_var, dependent_var, epochs=10000, verbose=0)\n",
        "model.fit(independent_var, dependent_var, epochs=10)"
      ],
      "execution_count": null,
      "outputs": [
        {
          "output_type": "stream",
          "text": [
            "Epoch 1/10\n",
            "16/16 [==============================] - 0s 1ms/step - loss: 12.9344\n",
            "Epoch 2/10\n",
            "16/16 [==============================] - 0s 954us/step - loss: 13.3867\n",
            "Epoch 3/10\n",
            "16/16 [==============================] - 0s 1ms/step - loss: 13.2593\n",
            "Epoch 4/10\n",
            "16/16 [==============================] - 0s 912us/step - loss: 13.1453\n",
            "Epoch 5/10\n",
            "16/16 [==============================] - 0s 999us/step - loss: 13.3995\n",
            "Epoch 6/10\n",
            "16/16 [==============================] - 0s 953us/step - loss: 13.5282\n",
            "Epoch 7/10\n",
            "16/16 [==============================] - 0s 1ms/step - loss: 12.9813\n",
            "Epoch 8/10\n",
            "16/16 [==============================] - 0s 1ms/step - loss: 14.4630\n",
            "Epoch 9/10\n",
            "16/16 [==============================] - 0s 1ms/step - loss: 13.9754\n",
            "Epoch 10/10\n",
            "16/16 [==============================] - 0s 922us/step - loss: 12.7283\n"
          ],
          "name": "stdout"
        },
        {
          "output_type": "execute_result",
          "data": {
            "text/plain": [
              "<tensorflow.python.keras.callbacks.History at 0x7f9e433ec0b8>"
            ]
          },
          "metadata": {
            "tags": []
          },
          "execution_count": 22
        }
      ]
    },
    {
      "cell_type": "code",
      "metadata": {
        "id": "J3k9K5IissJO",
        "colab_type": "code",
        "colab": {
          "base_uri": "https://localhost:8080/",
          "height": 269
        },
        "outputId": "96423b5f-ab3f-4d65-a4de-475224523784"
      },
      "source": [
        "# 모델 구조 확인\n",
        "model.summary()"
      ],
      "execution_count": null,
      "outputs": [
        {
          "output_type": "stream",
          "text": [
            "Model: \"functional_5\"\n",
            "_________________________________________________________________\n",
            "Layer (type)                 Output Shape              Param #   \n",
            "=================================================================\n",
            "input_3 (InputLayer)         [(None, 13)]              0         \n",
            "_________________________________________________________________\n",
            "dense_3 (Dense)              (None, 10)                140       \n",
            "_________________________________________________________________\n",
            "dense_4 (Dense)              (None, 1)                 11        \n",
            "=================================================================\n",
            "Total params: 151\n",
            "Trainable params: 151\n",
            "Non-trainable params: 0\n",
            "_________________________________________________________________\n"
          ],
          "name": "stdout"
        }
      ]
    },
    {
      "cell_type": "code",
      "metadata": {
        "id": "XM8aYE_Vrphq",
        "colab_type": "code",
        "colab": {
          "base_uri": "https://localhost:8080/",
          "height": 215
        },
        "outputId": "2f17f596-6ad7-4524-c630-ba5ccd7be024"
      },
      "source": [
        "# 4. 모델을 이용\n",
        "print(model.predict(independent_var[:5]))\n",
        "print(dependent_var[:5])"
      ],
      "execution_count": null,
      "outputs": [
        {
          "output_type": "stream",
          "text": [
            "[[30.978817]\n",
            " [22.274178]\n",
            " [32.954723]\n",
            " [32.28314 ]\n",
            " [28.85001 ]]\n",
            "   medv\n",
            "0  24.0\n",
            "1  21.6\n",
            "2  34.7\n",
            "3  33.4\n",
            "4  36.2\n"
          ],
          "name": "stdout"
        }
      ]
    },
    {
      "cell_type": "code",
      "metadata": {
        "id": "dxaJG9VOsNjv",
        "colab_type": "code",
        "colab": {}
      },
      "source": [
        ""
      ],
      "execution_count": null,
      "outputs": []
    }
  ]
}